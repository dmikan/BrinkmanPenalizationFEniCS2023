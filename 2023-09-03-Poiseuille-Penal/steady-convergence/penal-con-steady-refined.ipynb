{
 "cells": [
  {
   "cell_type": "code",
   "execution_count": 1,
   "id": "7a4612d2-73e4-4eed-91fc-91f7f198edc9",
   "metadata": {},
   "outputs": [],
   "source": [
    "##Begin importing necessary libraries\n",
    "from dolfin import *\n",
    "import dolfin\n",
    "import numpy as np\n",
    "import matplotlib.pyplot as plt"
   ]
  },
  {
   "cell_type": "code",
   "execution_count": 2,
   "id": "51fe6e1e-cbfe-444c-993e-c518cabaf85d",
   "metadata": {},
   "outputs": [],
   "source": [
    "## Print log messages only from the root process in parallel\n",
    "dolfin.parameters[\"std_out_all_processes\"] = False;"
   ]
  },
  {
   "cell_type": "code",
   "execution_count": 3,
   "id": "dca74841-4925-4d61-af52-d9032bb2f27e",
   "metadata": {},
   "outputs": [
    {
     "name": "stdout",
     "output_type": "stream",
     "text": [
      "Reference mesh imported\n",
      "Elements: 46862\n"
     ]
    }
   ],
   "source": [
    "# Define the reference mesh \n",
    "mesh_ref = Mesh('../mesh/mesh-square.xml')\n",
    "print(\"Reference mesh imported\")\n",
    "\n",
    "# Print number of elements an plot\n",
    "print(f\"Elements: {mesh_ref.num_cells()}\" )"
   ]
  },
  {
   "cell_type": "code",
   "execution_count": 4,
   "id": "7c61b5cb-f780-4a9e-aa26-327915196ada",
   "metadata": {},
   "outputs": [
    {
     "name": "stdout",
     "output_type": "stream",
     "text": [
      "Penalized mesh imported\n",
      "Elements: 139196\n"
     ]
    }
   ],
   "source": [
    "# Create mesh and define function space\n",
    "mesh_penal = Mesh('../mesh/mesh-square-penal.xml')\n",
    "print(\"Penalized mesh imported\")\n",
    "\n",
    "# Print number of elements an plot\n",
    "print(f\"Elements: {mesh_penal.num_cells()}\" )"
   ]
  },
  {
   "cell_type": "code",
   "execution_count": 5,
   "id": "11cfff4c-712f-4ffd-b7b0-dc151086efeb",
   "metadata": {},
   "outputs": [],
   "source": [
    "# Define function spaces\n",
    "V_ref_elem =  dolfin.VectorElement(\"CG\", mesh_ref.ufl_cell(), 2)\n",
    "Q_ref_elem =  dolfin.FiniteElement(\"CG\", mesh_ref.ufl_cell(), 1)\n",
    "W_ref_elem = dolfin.MixedElement([V_ref_elem, Q_ref_elem])\n",
    "W_ref = dolfin.FunctionSpace(mesh_ref, W_ref_elem)\n",
    "K_ref = dolfin.VectorFunctionSpace(mesh_ref,'DG',1) #vorticity in japanese is Kado\n",
    "\n",
    "# Define trial and test functions\n",
    "(v_ref, q_ref) = dolfin.TestFunctions(W_ref)\n",
    "w_ref = dolfin.Function(W_ref)\n",
    "(u_ref, p_ref) = dolfin.split(w_ref)\n",
    "k_ref = dolfin.Function(K_ref)"
   ]
  },
  {
   "cell_type": "code",
   "execution_count": 6,
   "id": "c4d83fac-1d58-4dcc-a85a-03520c8b59a8",
   "metadata": {},
   "outputs": [],
   "source": [
    "# Define function spaces\n",
    "V_penal_elem =  dolfin.VectorElement(\"CG\", mesh_penal.ufl_cell(), 2)\n",
    "Q_penal_elem =  dolfin.FiniteElement(\"CG\", mesh_penal.ufl_cell(), 1)\n",
    "W_penal_elem = dolfin.MixedElement([V_penal_elem, Q_penal_elem])\n",
    "W_penal = dolfin.FunctionSpace(mesh_penal, W_penal_elem)\n",
    "K_penal = dolfin.VectorFunctionSpace(mesh_ref,'DG',1) #vorticity in japanese is Kado\n",
    "\n",
    "# Define trial and test functions\n",
    "(v_penal, q_penal) = dolfin.TestFunctions(W_penal)\n",
    "w_penal = dolfin.Function(W_penal)\n",
    "(u_penal, p_penal) = dolfin.split(w_penal)\n",
    "k_penal = dolfin.Function(K_penal)"
   ]
  },
  {
   "cell_type": "code",
   "execution_count": 7,
   "id": "c8e63f27-ddc7-49e6-af54-3f08a618fbb2",
   "metadata": {},
   "outputs": [
    {
     "name": "stdout",
     "output_type": "stream",
     "text": [
      "Viscocity = 0.0075\n"
     ]
    }
   ],
   "source": [
    "# Set the fluid parameters \n",
    "U0 = 1\n",
    "SQUARE_SIDE_HALF_LENGTH = 0.15\n",
    "SQUARE_CENTRE_X = 0.5\n",
    "SQUARE_CENTRE_Y = 0.5\n",
    "Re = 40\n",
    "nu = U0 * (2 * SQUARE_SIDE_HALF_LENGTH) / Re\n",
    "\n",
    "# print the viscocity\n",
    "print(\"Viscocity = {}\".format(nu))"
   ]
  },
  {
   "cell_type": "code",
   "execution_count": 8,
   "id": "cbe6d576-4b02-44b0-ab36-1b64ce565872",
   "metadata": {},
   "outputs": [],
   "source": [
    "# No-slip boundary condition for velocity\n",
    "bcu_noslip_top_wall_ref = dolfin.DirichletBC(W_ref.sub(0), dolfin.Constant((0, 0)), \"on_boundary && x[1] > 1.0 - DOLFIN_EPS\")\n",
    "bcu_noslip_bottom_wall_ref = dolfin.DirichletBC(W_ref.sub(0), dolfin.Constant((0, 0)), \"on_boundary && x[1] <  DOLFIN_EPS\")\n",
    "bcu_noslip_hole_ref = DirichletBC(W_ref.sub(0), dolfin.Constant((0, 0)), \"on_boundary && std::abs(x[0] - 0.5) <= 0.15 + DOLFIN_EPS && std::abs(x[1] - 0.5) <= 0.15 + DOLFIN_EPS\")\n",
    "\n",
    "# Inflow boundary condition for velocity\n",
    "inlet_expression  = dolfin.Expression(('4.0 * x[1] * (1.0 - x[1])', 0), degree = 2)\n",
    "bcu_inflow_ref = dolfin.DirichletBC(W_ref.sub(0), inlet_expression, \"x[0] <  DOLFIN_EPS\")\n",
    "\n",
    "# Outflow boundary condition for pressure\n",
    "bcp_outflow_ref = dolfin.DirichletBC(W_ref.sub(1), dolfin.Constant(0), \"x[0] > 4.0 - DOLFIN_EPS\")\n",
    "\n",
    "# Collect boundary conditions\n",
    "bc_ref = [bcu_inflow_ref, bcu_noslip_top_wall_ref, bcu_noslip_bottom_wall_ref, bcu_noslip_hole_ref, bcp_outflow_ref]"
   ]
  },
  {
   "cell_type": "code",
   "execution_count": 9,
   "id": "8c17fef6-50fb-45a4-ad3c-682d330e1141",
   "metadata": {},
   "outputs": [],
   "source": [
    "# No-slip boundary condition for velocity\n",
    "bcu_noslip_top_wall_penal = dolfin.DirichletBC(W_penal.sub(0), dolfin.Constant((0, 0)), \"on_boundary && x[1] > 1.0 - DOLFIN_EPS\")\n",
    "bcu_noslip_bottom_wall_penal = dolfin.DirichletBC(W_penal.sub(0), dolfin.Constant((0, 0)), \"on_boundary && x[1] <  DOLFIN_EPS\")\n",
    "\n",
    "# Inflow boundary condition for velocity\n",
    "inlet_expression  = dolfin.Expression(('4.0 * x[1] * (1.0 - x[1])', 0), degree = 2)\n",
    "bcu_inflow_penal = dolfin.DirichletBC(W_penal.sub(0), inlet_expression, \"x[0] <  DOLFIN_EPS\")\n",
    "\n",
    "# Outflow boundary condition for pressure\n",
    "bcp_outflow_penal = dolfin.DirichletBC(W_penal.sub(1), dolfin.Constant(0), \"x[0] > 4.0 - DOLFIN_EPS\")\n",
    "\n",
    "# Collect boundary conditions\n",
    "bc_penal = [bcu_inflow_penal, bcu_noslip_top_wall_penal, bcu_noslip_bottom_wall_penal, bcp_outflow_penal]"
   ]
  },
  {
   "cell_type": "code",
   "execution_count": 10,
   "id": "f514bc7c-291e-457e-b5f6-ab9a65077eba",
   "metadata": {},
   "outputs": [
    {
     "name": "stdout",
     "output_type": "stream",
     "text": [
      "Test of projecting penalized solution into the reference domain, error = 8.943e-17\n"
     ]
    }
   ],
   "source": [
    "## Do a test to obtain an error of projecting the penalized solution into the reference domain.\n",
    "\n",
    "# Create mixed space and penalized functions\n",
    "w_penal_test = dolfin.Function(W_penal)\n",
    "(u_penal_test, p_penal_test) = dolfin.split(w_penal)\n",
    "\n",
    "# Create mixed space and reference functions\n",
    "w_ref_test = dolfin.Function(W_ref)\n",
    "(u_ref_test, p_ref_test) = dolfin.split(w_ref)\n",
    "\n",
    "# Create constants\n",
    "p_penal_test_initial = dolfin.Constant(1.0)\n",
    "p_ref_test_initial = dolfin.Constant(1.0)\n",
    "\n",
    "# Transform form ufl format to dolfin.function format (pressure)\n",
    "p_ref_test_proj = dolfin.project(p_ref_test)\n",
    "p_penal_test_proj = dolfin.project(p_penal_test)\n",
    "\n",
    "# Project the value 1 to pressure functions\n",
    "p_penal_test_proj.assign(p_penal_test_initial)\n",
    "p_ref_test_proj.assign(p_ref_test_initial)\n",
    "\n",
    "# Project penalized function into pressure subspace\n",
    "p_penal_test_proj = dolfin.interpolate(p_penal_test_proj, W_ref.sub(1).collapse())\n",
    "\n",
    "# Calculate the L2 error\n",
    "diff_square_test = (p_ref_test_proj - p_penal_test_proj)**2*dx\n",
    "error_L2_test = np.sqrt(np.abs(dolfin.assemble(diff_square_test)))\n",
    "print('Test of projecting penalized solution into the reference domain, error = %.3e' % error_L2_test)"
   ]
  },
  {
   "cell_type": "code",
   "execution_count": 11,
   "id": "bbf57979-7892-4bb9-9264-cd4802418289",
   "metadata": {},
   "outputs": [],
   "source": [
    "## Define some constants and functions for the penalized problem.\n",
    "\n",
    "# Specific coefficients for the penalized problem\n",
    "funcstring = f\"\"\"(x[0] - {SQUARE_CENTRE_X} >= - {SQUARE_SIDE_HALF_LENGTH}  \n",
    "                        && x[0] - {SQUARE_CENTRE_X} <= {SQUARE_SIDE_HALF_LENGTH})? \n",
    "                         ((x[1] - {SQUARE_CENTRE_Y} >= - {SQUARE_SIDE_HALF_LENGTH} \n",
    "                        && x[1] - {SQUARE_CENTRE_Y} <= {SQUARE_SIDE_HALF_LENGTH})? \n",
    "                        1.0 : 0.0) : 0.0;\"\"\"\n",
    "chi = dolfin.Expression(funcstring, degree=0) "
   ]
  },
  {
   "cell_type": "code",
   "execution_count": 12,
   "id": "53709c26-131a-453c-8b37-802501aa54b5",
   "metadata": {},
   "outputs": [],
   "source": [
    "## Define the variational problem for the Reference problem. \n",
    "\n",
    "def set_variational_ref(u, v, p, q, Re):\n",
    "    F = dot(dot(u, nabla_grad(u)), v)*dx \\\n",
    "        + nu*inner(grad(u), grad(v))*dx \\\n",
    "        - div(v)*p*dx \\\n",
    "        - q*div(u)*dx\n",
    "    return F"
   ]
  },
  {
   "cell_type": "code",
   "execution_count": 13,
   "id": "2b9dd5a9-d0af-48ff-b137-f0f760a1d019",
   "metadata": {},
   "outputs": [],
   "source": [
    "## Define the variational problem for the Brinkman problem.\n",
    "\n",
    "def set_variational_penal(u, v, p, q, eta, chi, Re):\n",
    "    F = dot(dot(u, nabla_grad(u)), v)*dx \\\n",
    "        + nu*inner(grad(u), grad(v))*dx \\\n",
    "        + (chi/eta)*inner(u, v)*dx \\\n",
    "        - div(v)*p*dx \\\n",
    "        - q*div(u)*dx\n",
    "    return F"
   ]
  },
  {
   "cell_type": "code",
   "execution_count": 14,
   "id": "8fed080c-e5f1-4e2e-b251-5ab7d58a966c",
   "metadata": {},
   "outputs": [],
   "source": [
    "## Define the iterative method to solve the nonlinear problem\n",
    "\n",
    "def newton_solver(F, w, bc, W):\n",
    "    dw = dolfin.TrialFunction(W)\n",
    "    dF = dolfin.derivative(F, w)\n",
    "    nsproblem = dolfin.NonlinearVariationalProblem(F, w, bc, dF)\n",
    "    solver = dolfin.NonlinearVariationalSolver(nsproblem)\n",
    "    return solver"
   ]
  },
  {
   "cell_type": "code",
   "execution_count": 15,
   "id": "ad32e02f-5dd9-4f87-9a1e-a5b49fc1b2f3",
   "metadata": {},
   "outputs": [],
   "source": [
    "# Calculate vorticity from velocity\n",
    "def compute_curl(u, k):        \n",
    "    curl_u = dolfin.curl(u)\n",
    "    #magnitude_curl_u = dolfin.sqrt(dolfin.inner(curl_u, curl_u)) #type:ufl\n",
    "    #magnitude_curl_u_proj = dolfin.project(magnitude_curl_u) #typee:function\n",
    "    curl_u_proj = dolfin.project(curl_u)\n",
    "    k.assign(curl_u_proj)\n",
    "    return k"
   ]
  },
  {
   "cell_type": "code",
   "execution_count": 16,
   "id": "846ca47e-c579-480b-8c52-fb25a27cbf34",
   "metadata": {},
   "outputs": [],
   "source": [
    "## Iteration \n",
    "def iterate(w, solver, k, ufile, pfile, kfile):\n",
    "    num_simulation = 5\n",
    "    n = 1\n",
    "    for i in range(num_simulation):\n",
    "        if n % 1 == 0:\n",
    "            if MPI.rank(MPI.comm_world) == 0:\n",
    "                print('Solving weak form n =', n, flush=True)\n",
    "        solver.solve()\n",
    "        # Save the last one (steady solution of interest)\n",
    "        if i == num_simulation - 1:  \n",
    "            u, p = w.split()\n",
    "            vorticity = compute_curl(u, k)\n",
    "            u.rename(\"u\", \"Velocity\")\n",
    "            ufile.write(u, n)\n",
    "            pfile.write(p, n)\n",
    "            kfile.write(vorticity, n)\n",
    "        n = n + 1\n",
    "    ufile.close()\n",
    "    pfile.close()\n",
    "    kfile.close()\n",
    "    u_proj = dolfin.project(u)\n",
    "    return u_proj"
   ]
  },
  {
   "cell_type": "code",
   "execution_count": 17,
   "id": "9c6236a0-67f1-416b-b809-fef129e41976",
   "metadata": {},
   "outputs": [
    {
     "name": "stdout",
     "output_type": "stream",
     "text": [
      "\n",
      "Computing the reference solution...\n",
      "Solving weak form n = 1\n",
      "Solving nonlinear variational problem.\n",
      "Solving weak form n =  Newton iteration 0: r (abs) = 1.961e+01 (tol = 1.000e-10) r (rel) = 1.000e+00 (tol = 1.000e-09)\n",
      "  Newton iteration 1: r (abs) = 1.478e-02 (tol = 1.000e-10) r (rel) = 7.537e-04 (tol = 1.000e-09)\n",
      "  Newton iteration 2: r (abs) = 5.677e-03 (tol = 1.000e-10) r (rel) = 2.895e-04 (tol = 1.000e-09)\n",
      "  Newton iteration 3: r (abs) = 2.302e-04 (tol = 1.000e-10) r (rel) = 1.174e-05 (tol = 1.000e-09)\n",
      "  Newton iteration 4: r (abs) = 3.919e-07 (tol = 1.000e-10) r (rel) = 1.998e-08 (tol = 1.000e-09)\n",
      "  Newton iteration 5: r (abs) = 4.969e-12 (tol = 1.000e-10) r (rel) = 2.534e-13 (tol = 1.000e-09)\n",
      "  Newton solver finished in 5 iterations and 5 linear solver iterations.\n",
      " 2\n",
      "Solving nonlinear variational problem.\n",
      "Solving weak form n = 3\n",
      "  Newton iteration 0: r (abs) = 4.969e-12 (tol = 1.000e-10) r (rel) = 1.000e+00 (tol = 1.000e-09)\n",
      "  Newton solver finished in 0 iterations and 0 linear solver iterations.\n",
      "Solving nonlinear variational problem.\n",
      "  Newton iteration 0: r (abs) = 4.969e-12 (tol = 1.000e-10) r (rel) = 1.000e+00 (tol = 1.000e-09)\n",
      "  Newton solver finished in 0 iterations and 0 linear solver iterations.\n",
      "Solving weak form n = 4\n",
      "Solving nonlinear variational problem.\n",
      "Solving weak form n = 5\n",
      "  Newton iteration 0: r (abs) = 4.969e-12 (tol = 1.000e-10) r (rel) = 1.000e+00 (tol = 1.000e-09)\n",
      "  Newton solver finished in 0 iterations and 0 linear solver iterations.\n",
      "Solving nonlinear variational problem.\n",
      "  Newton iteration 0: r (abs) = 4.969e-12 (tol = 1.000e-10) r (rel) = 1.000e+00 (tol = 1.000e-09)\n",
      "  Newton solver finished in 0 iterations and 0 linear solver iterations.\n",
      "\n",
      "Computing... 1 cycles of 8 for eta = 0.1\n",
      "Solving weak form n = 1\n",
      "Solving nonlinear variational problem.\n",
      "  Newton iteration 0: r (abs) = 2.001e+01 (tol = 1.000e-10) r (rel) = 1.000e+00 (tol = 1.000e-09)\n"
     ]
    },
    {
     "ename": "RuntimeError",
     "evalue": "\n\n*** -------------------------------------------------------------------------\n*** DOLFIN encountered an error. If you are not able to resolve this issue\n*** using the information listed below, you can ask for help at\n***\n***     fenics-support@googlegroups.com\n***\n*** Remember to include the error message listed below and, if possible,\n*** include a *minimal* running example to reproduce the error.\n***\n*** -------------------------------------------------------------------------\n*** Error:   Unable to successfully call PETSc function 'KSPSolve'.\n*** Reason:  PETSc error code is: 76 (Error in external library).\n*** Where:   This error was encountered inside /home/conda/feedstock_root/build_artifacts/fenics-pkgs_1687565272846/work/dolfin/dolfin/la/PETScKrylovSolver.cpp.\n*** Process: 0\n*** \n*** DOLFIN version: 2019.1.0\n*** Git changeset:  12ef077802cc9fad34cf984ec7af80585b44301b\n*** -------------------------------------------------------------------------\n",
     "output_type": "error",
     "traceback": [
      "\u001b[0;31m---------------------------------------------------------------------------\u001b[0m",
      "\u001b[0;31mRuntimeError\u001b[0m                              Traceback (most recent call last)",
      "Cell \u001b[0;32mIn[17], line 77\u001b[0m\n\u001b[1;32m     75\u001b[0m F_penal \u001b[38;5;241m=\u001b[39m set_variational_penal(u_penal, v_penal, p_penal, q_penal, eta, chi, Re)\n\u001b[1;32m     76\u001b[0m solver_penal \u001b[38;5;241m=\u001b[39m newton_solver(F_penal, w_penal, bc_penal, W_penal)\n\u001b[0;32m---> 77\u001b[0m u1_penal \u001b[38;5;241m=\u001b[39m \u001b[43miterate\u001b[49m\u001b[43m(\u001b[49m\u001b[43mw_penal\u001b[49m\u001b[43m,\u001b[49m\u001b[43m \u001b[49m\u001b[43msolver_penal\u001b[49m\u001b[43m,\u001b[49m\u001b[43m \u001b[49m\u001b[43mk_penal\u001b[49m\u001b[43m,\u001b[49m\u001b[43m \u001b[49m\u001b[43mufile_penal\u001b[49m\u001b[43m,\u001b[49m\u001b[43m \u001b[49m\u001b[43mpfile_penal\u001b[49m\u001b[43m,\u001b[49m\u001b[43m \u001b[49m\u001b[43mkfile_penal\u001b[49m\u001b[43m)\u001b[49m\n\u001b[1;32m     79\u001b[0m \u001b[38;5;66;03m#project penalized solution into the reference domain \u001b[39;00m\n\u001b[1;32m     80\u001b[0m u1_penal_proj \u001b[38;5;241m=\u001b[39m dolfin\u001b[38;5;241m.\u001b[39minterpolate(u1_penal, W_ref\u001b[38;5;241m.\u001b[39msub(\u001b[38;5;241m0\u001b[39m)\u001b[38;5;241m.\u001b[39mcollapse())\n",
      "Cell \u001b[0;32mIn[16], line 9\u001b[0m, in \u001b[0;36miterate\u001b[0;34m(w, solver, k, ufile, pfile, kfile)\u001b[0m\n\u001b[1;32m      7\u001b[0m     \u001b[38;5;28;01mif\u001b[39;00m MPI\u001b[38;5;241m.\u001b[39mrank(MPI\u001b[38;5;241m.\u001b[39mcomm_world) \u001b[38;5;241m==\u001b[39m \u001b[38;5;241m0\u001b[39m:\n\u001b[1;32m      8\u001b[0m         \u001b[38;5;28mprint\u001b[39m(\u001b[38;5;124m'\u001b[39m\u001b[38;5;124mSolving weak form n =\u001b[39m\u001b[38;5;124m'\u001b[39m, n, flush\u001b[38;5;241m=\u001b[39m\u001b[38;5;28;01mTrue\u001b[39;00m)\n\u001b[0;32m----> 9\u001b[0m \u001b[43msolver\u001b[49m\u001b[38;5;241;43m.\u001b[39;49m\u001b[43msolve\u001b[49m\u001b[43m(\u001b[49m\u001b[43m)\u001b[49m\n\u001b[1;32m     10\u001b[0m \u001b[38;5;66;03m# Save the last one (steady solution of interest)\u001b[39;00m\n\u001b[1;32m     11\u001b[0m \u001b[38;5;28;01mif\u001b[39;00m i \u001b[38;5;241m==\u001b[39m num_simulation \u001b[38;5;241m-\u001b[39m \u001b[38;5;241m1\u001b[39m:  \n",
      "\u001b[0;31mRuntimeError\u001b[0m: \n\n*** -------------------------------------------------------------------------\n*** DOLFIN encountered an error. If you are not able to resolve this issue\n*** using the information listed below, you can ask for help at\n***\n***     fenics-support@googlegroups.com\n***\n*** Remember to include the error message listed below and, if possible,\n*** include a *minimal* running example to reproduce the error.\n***\n*** -------------------------------------------------------------------------\n*** Error:   Unable to successfully call PETSc function 'KSPSolve'.\n*** Reason:  PETSc error code is: 76 (Error in external library).\n*** Where:   This error was encountered inside /home/conda/feedstock_root/build_artifacts/fenics-pkgs_1687565272846/work/dolfin/dolfin/la/PETScKrylovSolver.cpp.\n*** Process: 0\n*** \n*** DOLFIN version: 2019.1.0\n*** Git changeset:  12ef077802cc9fad34cf984ec7af80585b44301b\n*** -------------------------------------------------------------------------\n"
     ]
    }
   ],
   "source": [
    "## Solve the reference problem an iterate eta for different values, calculate L2 error and plot solutions.\n",
    "\n",
    "# Create directories for the reference solutions\n",
    "ufile_ref = XDMFFile('results/results_ref/velocity.xdmf')\n",
    "ufile_ref.parameters['rewrite_function_mesh'] = False\n",
    "ufile_ref.parameters['flush_output'] = True\n",
    "pfile_ref = XDMFFile('results/results_ref/pressure.xdmf')\n",
    "pfile_ref.parameters['rewrite_function_mesh'] = False\n",
    "pfile_ref.parameters['flush_output'] = True\n",
    "kfile_ref = XDMFFile('results/results_ref/vorticity.xdmf')\n",
    "kfile_ref.parameters['rewrite_function_mesh'] = False\n",
    "kfile_ref.parameters['flush_output'] = True\n",
    "\n",
    "# Print message\n",
    "print('\\nComputing the reference solution...')\n",
    "\n",
    "# Set the reference problem\n",
    "F_ref = set_variational_ref(u_ref, v_ref, p_ref, q_ref, Re)\n",
    "solver_ref = newton_solver(F_ref, w_ref, bc_ref, W_ref)\n",
    "u1_ref = iterate(w_ref, solver_ref, k_ref, ufile_ref, pfile_ref, kfile_ref)\n",
    "\n",
    "# Calculate L2 norm in Ω_f (ref)\n",
    "diff_square = (u1_ref)**2*dx\n",
    "norm_L2_omega_f_ref = np.sqrt(np.abs(dolfin.assemble(diff_square))) #norm_L2_omega_f (ref) \n",
    "\n",
    "# Output filename\n",
    "output_filename = \"results/error_data.txt\"\n",
    "with open(output_filename, 'w') as out_txt:\n",
    "    out_txt.write('--------------------------------------------------------\\n\\n')\n",
    "    out_txt.write('PARAMETER OF SIMULATION:\\n')\n",
    "    out_txt.write('REYNOLDS NUMBER = {}\\n'.format(Re))\n",
    "    out_txt.write('L2 NORM IN OMEGA F OF THE REFERENCE VELOCITY = %.2e\\n' % norm_L2_omega_f_ref)\n",
    "    out_txt.write('--------------------------------------------------------\\n\\n')\n",
    "    out_txt.write('FINITE ELEMENT PARAMETERS:\\n')\n",
    "    out_txt.write('ELEMENTS OF REFERENCE MESH = {}\\n'.format(mesh_ref.num_cells()))\n",
    "    out_txt.write('ELEMENTS OF PENALIZED MESH = {}\\n'.format(mesh_penal.num_cells()))\n",
    "    out_txt.write('H_MIN AND H_MAX OF REFERENCE MESH = %.2e, %.2e\\n' % (mesh_ref.hmin(), mesh_ref.hmax()))\n",
    "    out_txt.write('H_MIN AND H_MAX OF PENALIZED MESH = %.2e, %.2e\\n' % (mesh_penal.hmin(), mesh_penal.hmax()))\n",
    "    out_txt.write('VELOCITY FINITE ELEMENT SPACE = {}, {}\\n'.format(W_ref.sub(0).ufl_element().family(), W_ref.sub(0).ufl_element().degree()))\n",
    "    out_txt.write('PRESSURE FINITE ELEMENT SPACE = {}, {}\\n'.format(W_ref.sub(1).ufl_element().family(), W_ref.sub(1).ufl_element().degree()))\n",
    "    out_txt.write('--------------------------------------------------------\\n\\n')\n",
    "    out_txt.write('GLOSARY:\\n')\n",
    "    out_txt.write('ETA = PENALIZATION PARAMETER\\n')\n",
    "    out_txt.write('L2NOS = L2 NORM IN OMEGA_S\\n')\n",
    "    out_txt.write('L2EOF = L2 ERROR IN OMEGA_F\\n')\n",
    "    out_txt.write('L2EOF-REL = RELATIVE L2 ERROR IN OMEGA_F \\n')\n",
    "    out_txt.write('--------------------------------------------------------\\n\\n')\n",
    "    out_txt.write('ETA\\t\\t')\n",
    "    out_txt.write('L2NOS\\t\\t')\n",
    "    out_txt.write('L2EOF\\t\\t')\n",
    "    out_txt.write('L2EOF-REL\\n')\n",
    "\n",
    "eta_values = [1e-1, 1e-2, 1e-3, 1e-4, 1e-5, 1e-6, 1e-7, 1e-8]\n",
    "count = 1\n",
    "for eta_brinkman in eta_values:\n",
    "\n",
    "    # Set penalized parameter\n",
    "    eta = dolfin.Constant(eta_brinkman)\n",
    "\n",
    "    # Create directories for the reference and penalized solutions\n",
    "    ufile_penal = XDMFFile('results/results_{}/velocity.xdmf'.format(eta_brinkman))\n",
    "    ufile_penal.parameters['rewrite_function_mesh'] = False\n",
    "    ufile_penal.parameters['flush_output'] = True\n",
    "    pfile_penal = XDMFFile('results/results_{}/pressure.xdmf'.format(eta_brinkman))\n",
    "    pfile_penal.parameters['rewrite_function_mesh'] = False\n",
    "    pfile_penal.parameters['flush_output'] = True\n",
    "    kfile_penal = XDMFFile('results/results_{}/vorticity.xdmf'.format(eta_brinkman))\n",
    "    kfile_penal.parameters['rewrite_function_mesh'] = False\n",
    "    kfile_penal.parameters['flush_output'] = True\n",
    "\n",
    "    # Print message\n",
    "    print(f'\\nComputing... {count} cycles of {len(eta_values)} for eta = {eta_brinkman}')\n",
    "    \n",
    "    # Set the penalized problem\n",
    "    F_penal = set_variational_penal(u_penal, v_penal, p_penal, q_penal, eta, chi, Re)\n",
    "    solver_penal = newton_solver(F_penal, w_penal, bc_penal, W_penal)\n",
    "    u1_penal = iterate(w_penal, solver_penal, k_penal, ufile_penal, pfile_penal, kfile_penal)\n",
    "\n",
    "    #project penalized solution into the reference domain \n",
    "    u1_penal_proj = dolfin.interpolate(u1_penal, W_ref.sub(0).collapse())\n",
    "\n",
    "    # Calculate L2 error in Ω_f\n",
    "    diff_square = (u1_ref - u1_penal_proj)**2*dx\n",
    "    error_L2_omega_f = np.sqrt(np.abs(dolfin.assemble(diff_square))) \n",
    "\n",
    "    # Calculate L2 norm in Ω_s\n",
    "    diff_square = (chi*u1_penal)**2*dx\n",
    "    error_L2_omega_s = np.sqrt(np.abs(dolfin.assemble(diff_square))) \n",
    "\n",
    "    # Relative error \n",
    "    error_L2_omega_f_relative = error_L2_omega_f/norm_L2_omega_f_ref\n",
    "    \n",
    "    # Save the values in error_data.txt\n",
    "    with open(output_filename, 'a') as out_txt:\n",
    "        out_txt.write('%.0e\\t' % eta_brinkman)\n",
    "        out_txt.write('%.2e\\t' % error_L2_omega_s)\n",
    "        out_txt.write('%.2e\\t' % error_L2_omega_f)\n",
    "        out_txt.write('%.2e\\t' % error_L2_omega_f_relative)\n",
    "        out_txt.write('\\n')\n",
    "    count += 1\n",
    "if MPI.rank(MPI.comm_world) == 0:\n",
    "    print('Done!', flush=True)    "
   ]
  }
 ],
 "metadata": {
  "kernelspec": {
   "display_name": "Python 3 (ipykernel)",
   "language": "python",
   "name": "python3"
  },
  "language_info": {
   "codemirror_mode": {
    "name": "ipython",
    "version": 3
   },
   "file_extension": ".py",
   "mimetype": "text/x-python",
   "name": "python",
   "nbconvert_exporter": "python",
   "pygments_lexer": "ipython3",
   "version": "3.10.12"
  }
 },
 "nbformat": 4,
 "nbformat_minor": 5
}
